{
  "nbformat": 4,
  "nbformat_minor": 0,
  "metadata": {
    "colab": {
      "provenance": []
    },
    "kernelspec": {
      "name": "python3",
      "display_name": "Python 3"
    },
    "language_info": {
      "name": "python"
    }
  },
  "cells": [
    {
      "cell_type": "markdown",
      "source": [
        "Problem:\n",
        "***Predict the price of gifts**\n",
        "\n",
        "The problem is to build a predictive model that can determine the prices of different gift packages for an online retailer's special sale event. The model should utilize features such as categories and dates to make accurate price predictions.\n",
        "\n",
        "\n"
      ],
      "metadata": {
        "id": "HLehWhxvhAK8"
      }
    },
    {
      "cell_type": "code",
      "source": [
        "import numpy as np\n",
        "import pandas as pd\n",
        "import matplotlib.pyplot as plt\n",
        "from sklearn.linear_model import LinearRegression\n",
        "from sklearn.metrics import mean_squared_error\n",
        "from sklearn.model_selection import train_test_split"
      ],
      "metadata": {
        "id": "t-jWpumehHCv"
      },
      "execution_count": 1,
      "outputs": []
    },
    {
      "cell_type": "code",
      "source": [
        "#Loading the train data\n",
        "train_data = pd.read_csv('train.csv')\n",
        "test_data = pd.read_csv('test.csv')"
      ],
      "metadata": {
        "id": "RhXjk5lOhJB8"
      },
      "execution_count": 3,
      "outputs": []
    },
    {
      "cell_type": "code",
      "source": [
        "test_data.shape"
      ],
      "metadata": {
        "colab": {
          "base_uri": "https://localhost:8080/"
        },
        "id": "cyhmlzSyhN8M",
        "outputId": "7f6c7f08-eca0-4297-c3a4-d1b4216b2630"
      },
      "execution_count": 4,
      "outputs": [
        {
          "output_type": "execute_result",
          "data": {
            "text/plain": [
              "(13519, 16)"
            ]
          },
          "metadata": {},
          "execution_count": 4
        }
      ]
    },
    {
      "cell_type": "code",
      "source": [
        "train_data.shape\n"
      ],
      "metadata": {
        "colab": {
          "base_uri": "https://localhost:8080/"
        },
        "id": "WU9zcBLlhcwH",
        "outputId": "314e56eb-f1a0-4689-a515-6f49eb3fba41"
      },
      "execution_count": 5,
      "outputs": [
        {
          "output_type": "execute_result",
          "data": {
            "text/plain": [
              "(20279, 17)"
            ]
          },
          "metadata": {},
          "execution_count": 5
        }
      ]
    },
    {
      "cell_type": "code",
      "source": [
        "train_data.info()"
      ],
      "metadata": {
        "colab": {
          "base_uri": "https://localhost:8080/"
        },
        "id": "XYqa0KwBhOBc",
        "outputId": "942d3fca-695a-4d5d-f503-9d69dfe6268e"
      },
      "execution_count": 6,
      "outputs": [
        {
          "output_type": "stream",
          "name": "stdout",
          "text": [
            "<class 'pandas.core.frame.DataFrame'>\n",
            "RangeIndex: 20279 entries, 0 to 20278\n",
            "Data columns (total 17 columns):\n",
            " #   Column             Non-Null Count  Dtype  \n",
            "---  ------             --------------  -----  \n",
            " 0   gift_id            20279 non-null  object \n",
            " 1   gift_type          20279 non-null  int64  \n",
            " 2   gift_category      20279 non-null  int64  \n",
            " 3   gift_cluster       20279 non-null  int64  \n",
            " 4   instock_date       20279 non-null  object \n",
            " 5   stock_update_date  20279 non-null  object \n",
            " 6   lsg_1              20279 non-null  int64  \n",
            " 7   lsg_2              20279 non-null  int64  \n",
            " 8   lsg_3              20279 non-null  int64  \n",
            " 9   lsg_4              20279 non-null  int64  \n",
            " 10  lsg_5              20279 non-null  int64  \n",
            " 11  lsg_6              20279 non-null  int64  \n",
            " 12  uk_date1           20279 non-null  object \n",
            " 13  uk_date2           20279 non-null  object \n",
            " 14  is_discounted      20279 non-null  int64  \n",
            " 15  volumes            7323 non-null   float64\n",
            " 16  price              20279 non-null  float64\n",
            "dtypes: float64(2), int64(10), object(5)\n",
            "memory usage: 2.6+ MB\n"
          ]
        }
      ]
    },
    {
      "cell_type": "code",
      "source": [
        "test_data.info()"
      ],
      "metadata": {
        "colab": {
          "base_uri": "https://localhost:8080/"
        },
        "id": "if4Kj-RDhOGj",
        "outputId": "e78c16c7-2edc-452c-92e8-a30f7bbc3fca"
      },
      "execution_count": 7,
      "outputs": [
        {
          "output_type": "stream",
          "name": "stdout",
          "text": [
            "<class 'pandas.core.frame.DataFrame'>\n",
            "RangeIndex: 13519 entries, 0 to 13518\n",
            "Data columns (total 16 columns):\n",
            " #   Column             Non-Null Count  Dtype  \n",
            "---  ------             --------------  -----  \n",
            " 0   gift_id            13519 non-null  object \n",
            " 1   gift_type          13519 non-null  int64  \n",
            " 2   gift_category      13519 non-null  int64  \n",
            " 3   gift_cluster       13519 non-null  int64  \n",
            " 4   instock_date       13519 non-null  object \n",
            " 5   stock_update_date  13519 non-null  object \n",
            " 6   lsg_1              13519 non-null  int64  \n",
            " 7   lsg_2              13519 non-null  int64  \n",
            " 8   lsg_3              13519 non-null  int64  \n",
            " 9   lsg_4              13519 non-null  int64  \n",
            " 10  lsg_5              13519 non-null  int64  \n",
            " 11  lsg_6              13519 non-null  int64  \n",
            " 12  uk_date1           13519 non-null  object \n",
            " 13  uk_date2           13519 non-null  object \n",
            " 14  is_discounted      13519 non-null  int64  \n",
            " 15  volumes            11167 non-null  float64\n",
            "dtypes: float64(1), int64(10), object(5)\n",
            "memory usage: 1.7+ MB\n"
          ]
        }
      ]
    },
    {
      "cell_type": "markdown",
      "source": [
        "There are no null values in the dataset. So we'll not drop anything\n",
        "We'll move further."
      ],
      "metadata": {
        "id": "Uy0hUuSYhoEf"
      }
    },
    {
      "cell_type": "code",
      "source": [
        "train_data.head()"
      ],
      "metadata": {
        "colab": {
          "base_uri": "https://localhost:8080/",
          "height": 337
        },
        "id": "XOP_GGbnhs82",
        "outputId": "3eb1a264-3346-46f4-9cc7-8b98c40c2b76"
      },
      "execution_count": 8,
      "outputs": [
        {
          "output_type": "execute_result",
          "data": {
            "text/plain": [
              "    gift_id  gift_type  gift_category  gift_cluster             instock_date  \\\n",
              "0  GF_11156         61            534          3942  2014-02-21 05:07:06.000   \n",
              "1  GF_11157         61            534          3942  2014-02-21 06:07:06.000   \n",
              "2  GF_15689        584            262             0  2014-02-21 09:30:21.000   \n",
              "3  GF_11155         61            534          3942  2014-02-22 05:07:06.000   \n",
              "4  GF_11158         61            534          3942  2014-02-22 07:07:06.000   \n",
              "\n",
              "         stock_update_date  lsg_1  lsg_2  lsg_3  lsg_4  lsg_5  lsg_6  \\\n",
              "0  2016-11-09 15:49:51.000   3377   5221    504   1912     10    554   \n",
              "1  2016-11-11 13:49:51.000   3377   5221    504   1912     10    554   \n",
              "2  2016-03-24 14:46:18.000   5290   1579   3203   1912      9   1578   \n",
              "3  2016-11-10 16:49:51.000   3377   5221    504   1912     10    554   \n",
              "4  2016-11-10 13:49:51.000   3377   5221    504   1912      9    554   \n",
              "\n",
              "                  uk_date1                 uk_date2  is_discounted  volumes  \\\n",
              "0  2014-02-24 08:07:06.000  2014-02-24 07:07:06.000              0      NaN   \n",
              "1  2014-02-22 07:07:06.000  2014-02-24 06:07:06.000              1      NaN   \n",
              "2  2016-01-26 00:04:45.000  2016-03-18 02:00:00.000              1      NaN   \n",
              "3  2016-11-07 13:49:51.000  2016-11-06 04:00:00.000              0      NaN   \n",
              "4  2016-11-07 15:49:51.000  2016-11-06 01:00:00.000              1      NaN   \n",
              "\n",
              "    price  \n",
              "0  175.54  \n",
              "1   95.80  \n",
              "2  107.35  \n",
              "3  172.90  \n",
              "4   77.72  "
            ],
            "text/html": [
              "\n",
              "  <div id=\"df-27ad2854-fff9-42a9-9b71-f2247858a5ed\">\n",
              "    <div class=\"colab-df-container\">\n",
              "      <div>\n",
              "<style scoped>\n",
              "    .dataframe tbody tr th:only-of-type {\n",
              "        vertical-align: middle;\n",
              "    }\n",
              "\n",
              "    .dataframe tbody tr th {\n",
              "        vertical-align: top;\n",
              "    }\n",
              "\n",
              "    .dataframe thead th {\n",
              "        text-align: right;\n",
              "    }\n",
              "</style>\n",
              "<table border=\"1\" class=\"dataframe\">\n",
              "  <thead>\n",
              "    <tr style=\"text-align: right;\">\n",
              "      <th></th>\n",
              "      <th>gift_id</th>\n",
              "      <th>gift_type</th>\n",
              "      <th>gift_category</th>\n",
              "      <th>gift_cluster</th>\n",
              "      <th>instock_date</th>\n",
              "      <th>stock_update_date</th>\n",
              "      <th>lsg_1</th>\n",
              "      <th>lsg_2</th>\n",
              "      <th>lsg_3</th>\n",
              "      <th>lsg_4</th>\n",
              "      <th>lsg_5</th>\n",
              "      <th>lsg_6</th>\n",
              "      <th>uk_date1</th>\n",
              "      <th>uk_date2</th>\n",
              "      <th>is_discounted</th>\n",
              "      <th>volumes</th>\n",
              "      <th>price</th>\n",
              "    </tr>\n",
              "  </thead>\n",
              "  <tbody>\n",
              "    <tr>\n",
              "      <th>0</th>\n",
              "      <td>GF_11156</td>\n",
              "      <td>61</td>\n",
              "      <td>534</td>\n",
              "      <td>3942</td>\n",
              "      <td>2014-02-21 05:07:06.000</td>\n",
              "      <td>2016-11-09 15:49:51.000</td>\n",
              "      <td>3377</td>\n",
              "      <td>5221</td>\n",
              "      <td>504</td>\n",
              "      <td>1912</td>\n",
              "      <td>10</td>\n",
              "      <td>554</td>\n",
              "      <td>2014-02-24 08:07:06.000</td>\n",
              "      <td>2014-02-24 07:07:06.000</td>\n",
              "      <td>0</td>\n",
              "      <td>NaN</td>\n",
              "      <td>175.54</td>\n",
              "    </tr>\n",
              "    <tr>\n",
              "      <th>1</th>\n",
              "      <td>GF_11157</td>\n",
              "      <td>61</td>\n",
              "      <td>534</td>\n",
              "      <td>3942</td>\n",
              "      <td>2014-02-21 06:07:06.000</td>\n",
              "      <td>2016-11-11 13:49:51.000</td>\n",
              "      <td>3377</td>\n",
              "      <td>5221</td>\n",
              "      <td>504</td>\n",
              "      <td>1912</td>\n",
              "      <td>10</td>\n",
              "      <td>554</td>\n",
              "      <td>2014-02-22 07:07:06.000</td>\n",
              "      <td>2014-02-24 06:07:06.000</td>\n",
              "      <td>1</td>\n",
              "      <td>NaN</td>\n",
              "      <td>95.80</td>\n",
              "    </tr>\n",
              "    <tr>\n",
              "      <th>2</th>\n",
              "      <td>GF_15689</td>\n",
              "      <td>584</td>\n",
              "      <td>262</td>\n",
              "      <td>0</td>\n",
              "      <td>2014-02-21 09:30:21.000</td>\n",
              "      <td>2016-03-24 14:46:18.000</td>\n",
              "      <td>5290</td>\n",
              "      <td>1579</td>\n",
              "      <td>3203</td>\n",
              "      <td>1912</td>\n",
              "      <td>9</td>\n",
              "      <td>1578</td>\n",
              "      <td>2016-01-26 00:04:45.000</td>\n",
              "      <td>2016-03-18 02:00:00.000</td>\n",
              "      <td>1</td>\n",
              "      <td>NaN</td>\n",
              "      <td>107.35</td>\n",
              "    </tr>\n",
              "    <tr>\n",
              "      <th>3</th>\n",
              "      <td>GF_11155</td>\n",
              "      <td>61</td>\n",
              "      <td>534</td>\n",
              "      <td>3942</td>\n",
              "      <td>2014-02-22 05:07:06.000</td>\n",
              "      <td>2016-11-10 16:49:51.000</td>\n",
              "      <td>3377</td>\n",
              "      <td>5221</td>\n",
              "      <td>504</td>\n",
              "      <td>1912</td>\n",
              "      <td>10</td>\n",
              "      <td>554</td>\n",
              "      <td>2016-11-07 13:49:51.000</td>\n",
              "      <td>2016-11-06 04:00:00.000</td>\n",
              "      <td>0</td>\n",
              "      <td>NaN</td>\n",
              "      <td>172.90</td>\n",
              "    </tr>\n",
              "    <tr>\n",
              "      <th>4</th>\n",
              "      <td>GF_11158</td>\n",
              "      <td>61</td>\n",
              "      <td>534</td>\n",
              "      <td>3942</td>\n",
              "      <td>2014-02-22 07:07:06.000</td>\n",
              "      <td>2016-11-10 13:49:51.000</td>\n",
              "      <td>3377</td>\n",
              "      <td>5221</td>\n",
              "      <td>504</td>\n",
              "      <td>1912</td>\n",
              "      <td>9</td>\n",
              "      <td>554</td>\n",
              "      <td>2016-11-07 15:49:51.000</td>\n",
              "      <td>2016-11-06 01:00:00.000</td>\n",
              "      <td>1</td>\n",
              "      <td>NaN</td>\n",
              "      <td>77.72</td>\n",
              "    </tr>\n",
              "  </tbody>\n",
              "</table>\n",
              "</div>\n",
              "      <button class=\"colab-df-convert\" onclick=\"convertToInteractive('df-27ad2854-fff9-42a9-9b71-f2247858a5ed')\"\n",
              "              title=\"Convert this dataframe to an interactive table.\"\n",
              "              style=\"display:none;\">\n",
              "        \n",
              "  <svg xmlns=\"http://www.w3.org/2000/svg\" height=\"24px\"viewBox=\"0 0 24 24\"\n",
              "       width=\"24px\">\n",
              "    <path d=\"M0 0h24v24H0V0z\" fill=\"none\"/>\n",
              "    <path d=\"M18.56 5.44l.94 2.06.94-2.06 2.06-.94-2.06-.94-.94-2.06-.94 2.06-2.06.94zm-11 1L8.5 8.5l.94-2.06 2.06-.94-2.06-.94L8.5 2.5l-.94 2.06-2.06.94zm10 10l.94 2.06.94-2.06 2.06-.94-2.06-.94-.94-2.06-.94 2.06-2.06.94z\"/><path d=\"M17.41 7.96l-1.37-1.37c-.4-.4-.92-.59-1.43-.59-.52 0-1.04.2-1.43.59L10.3 9.45l-7.72 7.72c-.78.78-.78 2.05 0 2.83L4 21.41c.39.39.9.59 1.41.59.51 0 1.02-.2 1.41-.59l7.78-7.78 2.81-2.81c.8-.78.8-2.07 0-2.86zM5.41 20L4 18.59l7.72-7.72 1.47 1.35L5.41 20z\"/>\n",
              "  </svg>\n",
              "      </button>\n",
              "      \n",
              "  <style>\n",
              "    .colab-df-container {\n",
              "      display:flex;\n",
              "      flex-wrap:wrap;\n",
              "      gap: 12px;\n",
              "    }\n",
              "\n",
              "    .colab-df-convert {\n",
              "      background-color: #E8F0FE;\n",
              "      border: none;\n",
              "      border-radius: 50%;\n",
              "      cursor: pointer;\n",
              "      display: none;\n",
              "      fill: #1967D2;\n",
              "      height: 32px;\n",
              "      padding: 0 0 0 0;\n",
              "      width: 32px;\n",
              "    }\n",
              "\n",
              "    .colab-df-convert:hover {\n",
              "      background-color: #E2EBFA;\n",
              "      box-shadow: 0px 1px 2px rgba(60, 64, 67, 0.3), 0px 1px 3px 1px rgba(60, 64, 67, 0.15);\n",
              "      fill: #174EA6;\n",
              "    }\n",
              "\n",
              "    [theme=dark] .colab-df-convert {\n",
              "      background-color: #3B4455;\n",
              "      fill: #D2E3FC;\n",
              "    }\n",
              "\n",
              "    [theme=dark] .colab-df-convert:hover {\n",
              "      background-color: #434B5C;\n",
              "      box-shadow: 0px 1px 3px 1px rgba(0, 0, 0, 0.15);\n",
              "      filter: drop-shadow(0px 1px 2px rgba(0, 0, 0, 0.3));\n",
              "      fill: #FFFFFF;\n",
              "    }\n",
              "  </style>\n",
              "\n",
              "      <script>\n",
              "        const buttonEl =\n",
              "          document.querySelector('#df-27ad2854-fff9-42a9-9b71-f2247858a5ed button.colab-df-convert');\n",
              "        buttonEl.style.display =\n",
              "          google.colab.kernel.accessAllowed ? 'block' : 'none';\n",
              "\n",
              "        async function convertToInteractive(key) {\n",
              "          const element = document.querySelector('#df-27ad2854-fff9-42a9-9b71-f2247858a5ed');\n",
              "          const dataTable =\n",
              "            await google.colab.kernel.invokeFunction('convertToInteractive',\n",
              "                                                     [key], {});\n",
              "          if (!dataTable) return;\n",
              "\n",
              "          const docLinkHtml = 'Like what you see? Visit the ' +\n",
              "            '<a target=\"_blank\" href=https://colab.research.google.com/notebooks/data_table.ipynb>data table notebook</a>'\n",
              "            + ' to learn more about interactive tables.';\n",
              "          element.innerHTML = '';\n",
              "          dataTable['output_type'] = 'display_data';\n",
              "          await google.colab.output.renderOutput(dataTable, element);\n",
              "          const docLink = document.createElement('div');\n",
              "          docLink.innerHTML = docLinkHtml;\n",
              "          element.appendChild(docLink);\n",
              "        }\n",
              "      </script>\n",
              "    </div>\n",
              "  </div>\n",
              "  "
            ]
          },
          "metadata": {},
          "execution_count": 8
        }
      ]
    },
    {
      "cell_type": "code",
      "source": [
        "# Finding the correlation of data with our Y (price)\n",
        "train_data.corr()"
      ],
      "metadata": {
        "colab": {
          "base_uri": "https://localhost:8080/",
          "height": 480
        },
        "id": "gXkH8_i3hxm5",
        "outputId": "7bc7db57-39fa-4d51-f290-47fbb5b83cb5"
      },
      "execution_count": 9,
      "outputs": [
        {
          "output_type": "stream",
          "name": "stderr",
          "text": [
            "<ipython-input-9-ba442943c0c8>:2: FutureWarning: The default value of numeric_only in DataFrame.corr is deprecated. In a future version, it will default to False. Select only valid columns or specify the value of numeric_only to silence this warning.\n",
            "  train_data.corr()\n"
          ]
        },
        {
          "output_type": "execute_result",
          "data": {
            "text/plain": [
              "               gift_type  gift_category  gift_cluster     lsg_1     lsg_2  \\\n",
              "gift_type       1.000000       0.075328     -0.123263  0.369368 -0.063898   \n",
              "gift_category   0.075328       1.000000     -0.138297  0.003494 -0.020970   \n",
              "gift_cluster   -0.123263      -0.138297      1.000000 -0.106383  0.109072   \n",
              "lsg_1           0.369368       0.003494     -0.106383  1.000000 -0.162152   \n",
              "lsg_2          -0.063898      -0.020970      0.109072 -0.162152  1.000000   \n",
              "lsg_3           0.534393      -0.069802      0.067285  0.524086 -0.037239   \n",
              "lsg_4           0.055803       0.053803      0.068613 -0.126679  0.022979   \n",
              "lsg_5          -0.073652      -0.339733      0.146533 -0.125548  0.040390   \n",
              "lsg_6           0.062589       0.085429      0.025014 -0.033314 -0.039292   \n",
              "is_discounted  -0.027933       0.011843      0.063864 -0.193836  0.035532   \n",
              "volumes         0.083846       0.121377     -0.010205  0.153268  0.101562   \n",
              "price           0.137145       0.286888     -0.282881  0.147712 -0.185142   \n",
              "\n",
              "                  lsg_3     lsg_4     lsg_5     lsg_6  is_discounted  \\\n",
              "gift_type      0.534393  0.055803 -0.073652  0.062589      -0.027933   \n",
              "gift_category -0.069802  0.053803 -0.339733  0.085429       0.011843   \n",
              "gift_cluster   0.067285  0.068613  0.146533  0.025014       0.063864   \n",
              "lsg_1          0.524086 -0.126679 -0.125548 -0.033314      -0.193836   \n",
              "lsg_2         -0.037239  0.022979  0.040390 -0.039292       0.035532   \n",
              "lsg_3          1.000000  0.080235 -0.002776  0.067858      -0.120458   \n",
              "lsg_4          0.080235  1.000000  0.272718  0.371960       0.201302   \n",
              "lsg_5         -0.002776  0.272718  1.000000  0.163077       0.094139   \n",
              "lsg_6          0.067858  0.371960  0.163077  1.000000       0.122089   \n",
              "is_discounted -0.120458  0.201302  0.094139  0.122089       1.000000   \n",
              "volumes        0.227968  0.066885 -0.014246  0.180311      -0.021741   \n",
              "price          0.006178 -0.222104 -0.525773 -0.019769      -0.157463   \n",
              "\n",
              "                volumes     price  \n",
              "gift_type      0.083846  0.137145  \n",
              "gift_category  0.121377  0.286888  \n",
              "gift_cluster  -0.010205 -0.282881  \n",
              "lsg_1          0.153268  0.147712  \n",
              "lsg_2          0.101562 -0.185142  \n",
              "lsg_3          0.227968  0.006178  \n",
              "lsg_4          0.066885 -0.222104  \n",
              "lsg_5         -0.014246 -0.525773  \n",
              "lsg_6          0.180311 -0.019769  \n",
              "is_discounted -0.021741 -0.157463  \n",
              "volumes        1.000000  0.030828  \n",
              "price          0.030828  1.000000  "
            ],
            "text/html": [
              "\n",
              "  <div id=\"df-8700f5ea-d359-460a-b547-e94b3cf45e46\">\n",
              "    <div class=\"colab-df-container\">\n",
              "      <div>\n",
              "<style scoped>\n",
              "    .dataframe tbody tr th:only-of-type {\n",
              "        vertical-align: middle;\n",
              "    }\n",
              "\n",
              "    .dataframe tbody tr th {\n",
              "        vertical-align: top;\n",
              "    }\n",
              "\n",
              "    .dataframe thead th {\n",
              "        text-align: right;\n",
              "    }\n",
              "</style>\n",
              "<table border=\"1\" class=\"dataframe\">\n",
              "  <thead>\n",
              "    <tr style=\"text-align: right;\">\n",
              "      <th></th>\n",
              "      <th>gift_type</th>\n",
              "      <th>gift_category</th>\n",
              "      <th>gift_cluster</th>\n",
              "      <th>lsg_1</th>\n",
              "      <th>lsg_2</th>\n",
              "      <th>lsg_3</th>\n",
              "      <th>lsg_4</th>\n",
              "      <th>lsg_5</th>\n",
              "      <th>lsg_6</th>\n",
              "      <th>is_discounted</th>\n",
              "      <th>volumes</th>\n",
              "      <th>price</th>\n",
              "    </tr>\n",
              "  </thead>\n",
              "  <tbody>\n",
              "    <tr>\n",
              "      <th>gift_type</th>\n",
              "      <td>1.000000</td>\n",
              "      <td>0.075328</td>\n",
              "      <td>-0.123263</td>\n",
              "      <td>0.369368</td>\n",
              "      <td>-0.063898</td>\n",
              "      <td>0.534393</td>\n",
              "      <td>0.055803</td>\n",
              "      <td>-0.073652</td>\n",
              "      <td>0.062589</td>\n",
              "      <td>-0.027933</td>\n",
              "      <td>0.083846</td>\n",
              "      <td>0.137145</td>\n",
              "    </tr>\n",
              "    <tr>\n",
              "      <th>gift_category</th>\n",
              "      <td>0.075328</td>\n",
              "      <td>1.000000</td>\n",
              "      <td>-0.138297</td>\n",
              "      <td>0.003494</td>\n",
              "      <td>-0.020970</td>\n",
              "      <td>-0.069802</td>\n",
              "      <td>0.053803</td>\n",
              "      <td>-0.339733</td>\n",
              "      <td>0.085429</td>\n",
              "      <td>0.011843</td>\n",
              "      <td>0.121377</td>\n",
              "      <td>0.286888</td>\n",
              "    </tr>\n",
              "    <tr>\n",
              "      <th>gift_cluster</th>\n",
              "      <td>-0.123263</td>\n",
              "      <td>-0.138297</td>\n",
              "      <td>1.000000</td>\n",
              "      <td>-0.106383</td>\n",
              "      <td>0.109072</td>\n",
              "      <td>0.067285</td>\n",
              "      <td>0.068613</td>\n",
              "      <td>0.146533</td>\n",
              "      <td>0.025014</td>\n",
              "      <td>0.063864</td>\n",
              "      <td>-0.010205</td>\n",
              "      <td>-0.282881</td>\n",
              "    </tr>\n",
              "    <tr>\n",
              "      <th>lsg_1</th>\n",
              "      <td>0.369368</td>\n",
              "      <td>0.003494</td>\n",
              "      <td>-0.106383</td>\n",
              "      <td>1.000000</td>\n",
              "      <td>-0.162152</td>\n",
              "      <td>0.524086</td>\n",
              "      <td>-0.126679</td>\n",
              "      <td>-0.125548</td>\n",
              "      <td>-0.033314</td>\n",
              "      <td>-0.193836</td>\n",
              "      <td>0.153268</td>\n",
              "      <td>0.147712</td>\n",
              "    </tr>\n",
              "    <tr>\n",
              "      <th>lsg_2</th>\n",
              "      <td>-0.063898</td>\n",
              "      <td>-0.020970</td>\n",
              "      <td>0.109072</td>\n",
              "      <td>-0.162152</td>\n",
              "      <td>1.000000</td>\n",
              "      <td>-0.037239</td>\n",
              "      <td>0.022979</td>\n",
              "      <td>0.040390</td>\n",
              "      <td>-0.039292</td>\n",
              "      <td>0.035532</td>\n",
              "      <td>0.101562</td>\n",
              "      <td>-0.185142</td>\n",
              "    </tr>\n",
              "    <tr>\n",
              "      <th>lsg_3</th>\n",
              "      <td>0.534393</td>\n",
              "      <td>-0.069802</td>\n",
              "      <td>0.067285</td>\n",
              "      <td>0.524086</td>\n",
              "      <td>-0.037239</td>\n",
              "      <td>1.000000</td>\n",
              "      <td>0.080235</td>\n",
              "      <td>-0.002776</td>\n",
              "      <td>0.067858</td>\n",
              "      <td>-0.120458</td>\n",
              "      <td>0.227968</td>\n",
              "      <td>0.006178</td>\n",
              "    </tr>\n",
              "    <tr>\n",
              "      <th>lsg_4</th>\n",
              "      <td>0.055803</td>\n",
              "      <td>0.053803</td>\n",
              "      <td>0.068613</td>\n",
              "      <td>-0.126679</td>\n",
              "      <td>0.022979</td>\n",
              "      <td>0.080235</td>\n",
              "      <td>1.000000</td>\n",
              "      <td>0.272718</td>\n",
              "      <td>0.371960</td>\n",
              "      <td>0.201302</td>\n",
              "      <td>0.066885</td>\n",
              "      <td>-0.222104</td>\n",
              "    </tr>\n",
              "    <tr>\n",
              "      <th>lsg_5</th>\n",
              "      <td>-0.073652</td>\n",
              "      <td>-0.339733</td>\n",
              "      <td>0.146533</td>\n",
              "      <td>-0.125548</td>\n",
              "      <td>0.040390</td>\n",
              "      <td>-0.002776</td>\n",
              "      <td>0.272718</td>\n",
              "      <td>1.000000</td>\n",
              "      <td>0.163077</td>\n",
              "      <td>0.094139</td>\n",
              "      <td>-0.014246</td>\n",
              "      <td>-0.525773</td>\n",
              "    </tr>\n",
              "    <tr>\n",
              "      <th>lsg_6</th>\n",
              "      <td>0.062589</td>\n",
              "      <td>0.085429</td>\n",
              "      <td>0.025014</td>\n",
              "      <td>-0.033314</td>\n",
              "      <td>-0.039292</td>\n",
              "      <td>0.067858</td>\n",
              "      <td>0.371960</td>\n",
              "      <td>0.163077</td>\n",
              "      <td>1.000000</td>\n",
              "      <td>0.122089</td>\n",
              "      <td>0.180311</td>\n",
              "      <td>-0.019769</td>\n",
              "    </tr>\n",
              "    <tr>\n",
              "      <th>is_discounted</th>\n",
              "      <td>-0.027933</td>\n",
              "      <td>0.011843</td>\n",
              "      <td>0.063864</td>\n",
              "      <td>-0.193836</td>\n",
              "      <td>0.035532</td>\n",
              "      <td>-0.120458</td>\n",
              "      <td>0.201302</td>\n",
              "      <td>0.094139</td>\n",
              "      <td>0.122089</td>\n",
              "      <td>1.000000</td>\n",
              "      <td>-0.021741</td>\n",
              "      <td>-0.157463</td>\n",
              "    </tr>\n",
              "    <tr>\n",
              "      <th>volumes</th>\n",
              "      <td>0.083846</td>\n",
              "      <td>0.121377</td>\n",
              "      <td>-0.010205</td>\n",
              "      <td>0.153268</td>\n",
              "      <td>0.101562</td>\n",
              "      <td>0.227968</td>\n",
              "      <td>0.066885</td>\n",
              "      <td>-0.014246</td>\n",
              "      <td>0.180311</td>\n",
              "      <td>-0.021741</td>\n",
              "      <td>1.000000</td>\n",
              "      <td>0.030828</td>\n",
              "    </tr>\n",
              "    <tr>\n",
              "      <th>price</th>\n",
              "      <td>0.137145</td>\n",
              "      <td>0.286888</td>\n",
              "      <td>-0.282881</td>\n",
              "      <td>0.147712</td>\n",
              "      <td>-0.185142</td>\n",
              "      <td>0.006178</td>\n",
              "      <td>-0.222104</td>\n",
              "      <td>-0.525773</td>\n",
              "      <td>-0.019769</td>\n",
              "      <td>-0.157463</td>\n",
              "      <td>0.030828</td>\n",
              "      <td>1.000000</td>\n",
              "    </tr>\n",
              "  </tbody>\n",
              "</table>\n",
              "</div>\n",
              "      <button class=\"colab-df-convert\" onclick=\"convertToInteractive('df-8700f5ea-d359-460a-b547-e94b3cf45e46')\"\n",
              "              title=\"Convert this dataframe to an interactive table.\"\n",
              "              style=\"display:none;\">\n",
              "        \n",
              "  <svg xmlns=\"http://www.w3.org/2000/svg\" height=\"24px\"viewBox=\"0 0 24 24\"\n",
              "       width=\"24px\">\n",
              "    <path d=\"M0 0h24v24H0V0z\" fill=\"none\"/>\n",
              "    <path d=\"M18.56 5.44l.94 2.06.94-2.06 2.06-.94-2.06-.94-.94-2.06-.94 2.06-2.06.94zm-11 1L8.5 8.5l.94-2.06 2.06-.94-2.06-.94L8.5 2.5l-.94 2.06-2.06.94zm10 10l.94 2.06.94-2.06 2.06-.94-2.06-.94-.94-2.06-.94 2.06-2.06.94z\"/><path d=\"M17.41 7.96l-1.37-1.37c-.4-.4-.92-.59-1.43-.59-.52 0-1.04.2-1.43.59L10.3 9.45l-7.72 7.72c-.78.78-.78 2.05 0 2.83L4 21.41c.39.39.9.59 1.41.59.51 0 1.02-.2 1.41-.59l7.78-7.78 2.81-2.81c.8-.78.8-2.07 0-2.86zM5.41 20L4 18.59l7.72-7.72 1.47 1.35L5.41 20z\"/>\n",
              "  </svg>\n",
              "      </button>\n",
              "      \n",
              "  <style>\n",
              "    .colab-df-container {\n",
              "      display:flex;\n",
              "      flex-wrap:wrap;\n",
              "      gap: 12px;\n",
              "    }\n",
              "\n",
              "    .colab-df-convert {\n",
              "      background-color: #E8F0FE;\n",
              "      border: none;\n",
              "      border-radius: 50%;\n",
              "      cursor: pointer;\n",
              "      display: none;\n",
              "      fill: #1967D2;\n",
              "      height: 32px;\n",
              "      padding: 0 0 0 0;\n",
              "      width: 32px;\n",
              "    }\n",
              "\n",
              "    .colab-df-convert:hover {\n",
              "      background-color: #E2EBFA;\n",
              "      box-shadow: 0px 1px 2px rgba(60, 64, 67, 0.3), 0px 1px 3px 1px rgba(60, 64, 67, 0.15);\n",
              "      fill: #174EA6;\n",
              "    }\n",
              "\n",
              "    [theme=dark] .colab-df-convert {\n",
              "      background-color: #3B4455;\n",
              "      fill: #D2E3FC;\n",
              "    }\n",
              "\n",
              "    [theme=dark] .colab-df-convert:hover {\n",
              "      background-color: #434B5C;\n",
              "      box-shadow: 0px 1px 3px 1px rgba(0, 0, 0, 0.15);\n",
              "      filter: drop-shadow(0px 1px 2px rgba(0, 0, 0, 0.3));\n",
              "      fill: #FFFFFF;\n",
              "    }\n",
              "  </style>\n",
              "\n",
              "      <script>\n",
              "        const buttonEl =\n",
              "          document.querySelector('#df-8700f5ea-d359-460a-b547-e94b3cf45e46 button.colab-df-convert');\n",
              "        buttonEl.style.display =\n",
              "          google.colab.kernel.accessAllowed ? 'block' : 'none';\n",
              "\n",
              "        async function convertToInteractive(key) {\n",
              "          const element = document.querySelector('#df-8700f5ea-d359-460a-b547-e94b3cf45e46');\n",
              "          const dataTable =\n",
              "            await google.colab.kernel.invokeFunction('convertToInteractive',\n",
              "                                                     [key], {});\n",
              "          if (!dataTable) return;\n",
              "\n",
              "          const docLinkHtml = 'Like what you see? Visit the ' +\n",
              "            '<a target=\"_blank\" href=https://colab.research.google.com/notebooks/data_table.ipynb>data table notebook</a>'\n",
              "            + ' to learn more about interactive tables.';\n",
              "          element.innerHTML = '';\n",
              "          dataTable['output_type'] = 'display_data';\n",
              "          await google.colab.output.renderOutput(dataTable, element);\n",
              "          const docLink = document.createElement('div');\n",
              "          docLink.innerHTML = docLinkHtml;\n",
              "          element.appendChild(docLink);\n",
              "        }\n",
              "      </script>\n",
              "    </div>\n",
              "  </div>\n",
              "  "
            ]
          },
          "metadata": {},
          "execution_count": 9
        }
      ]
    },
    {
      "cell_type": "markdown",
      "source": [
        "**FILTERING THE IMPORTANT DATA**"
      ],
      "metadata": {
        "id": "RCxtq8WEiuoa"
      }
    },
    {
      "cell_type": "code",
      "source": [
        "# Converting colummns to Data Time for difference\n",
        "train_data['stock_update_date'] = pd.to_datetime(train_data['stock_update_date'], infer_datetime_format=True)"
      ],
      "metadata": {
        "id": "oczfDpyDmJXa"
      },
      "execution_count": 10,
      "outputs": []
    },
    {
      "cell_type": "markdown",
      "source": [
        "Ref: https://stackoverflow.com/questions/26763344/convert-pandas-column-to-datetime\n",
        "\n",
        "Ref 2: https://stackoverflow.com/questions/22923775/calculate-time-difference-between-two-pandas-columns-in-hours-and-minutes"
      ],
      "metadata": {
        "id": "Q6cQ3Hxxm_2s"
      }
    },
    {
      "cell_type": "code",
      "source": [
        "train_data['instock_date'] = pd.to_datetime(train_data['instock_date'], infer_datetime_format=True)"
      ],
      "metadata": {
        "id": "wjerkoELmJh4"
      },
      "execution_count": 17,
      "outputs": []
    },
    {
      "cell_type": "code",
      "source": [
        "train_data['stock_update_time'] = (train_data['stock_update_date'] - train_data['instock_date']).astype('timedelta64[h]')\n",
        "\n",
        "#Difference of two columns in and putting it into a new column stock_update_time, values in (hours)\n"
      ],
      "metadata": {
        "id": "G4Oy7TvvmJo3"
      },
      "execution_count": 18,
      "outputs": []
    },
    {
      "cell_type": "code",
      "source": [
        "test_data['stock_update_date'] = pd.to_datetime(test_data['stock_update_date'], infer_datetime_format=True)"
      ],
      "metadata": {
        "id": "dD2xkvIIrKhm"
      },
      "execution_count": 19,
      "outputs": []
    },
    {
      "cell_type": "code",
      "source": [
        "test_data['instock_date'] = pd.to_datetime(test_data['instock_date'], infer_datetime_format=True)"
      ],
      "metadata": {
        "id": "etY-2BMxrKnO"
      },
      "execution_count": 20,
      "outputs": []
    },
    {
      "cell_type": "code",
      "source": [
        "test_data['stock_update_time'] = (test_data['stock_update_date'] - test_data['instock_date']).astype('timedelta64[h]')\n"
      ],
      "metadata": {
        "id": "WnWdvyqkrKsz"
      },
      "execution_count": 21,
      "outputs": []
    },
    {
      "cell_type": "code",
      "source": [
        "train_data['stock_update_time']"
      ],
      "metadata": {
        "colab": {
          "base_uri": "https://localhost:8080/"
        },
        "id": "6eYJ3_0PmubP",
        "outputId": "5d2cc53a-d69f-4644-a712-14e28f43e43b"
      },
      "execution_count": 22,
      "outputs": [
        {
          "output_type": "execute_result",
          "data": {
            "text/plain": [
              "0        23818.0\n",
              "1        23863.0\n",
              "2        18293.0\n",
              "3        23819.0\n",
              "4        23814.0\n",
              "          ...   \n",
              "20274      117.0\n",
              "20275      144.0\n",
              "20276     1685.0\n",
              "20277      142.0\n",
              "20278      143.0\n",
              "Name: stock_update_time, Length: 20279, dtype: float64"
            ]
          },
          "metadata": {},
          "execution_count": 22
        }
      ]
    },
    {
      "cell_type": "code",
      "source": [
        "X_train = train_data[['gift_type','gift_category','stock_update_time', 'lsg_1', 'lsg_2','lsg_3','lsg_4','lsg_5','lsg_6','is_discounted']]\n",
        "Y_train = train_data['price']"
      ],
      "metadata": {
        "id": "Z_OUXZlyizeA"
      },
      "execution_count": 23,
      "outputs": []
    },
    {
      "cell_type": "code",
      "source": [
        "X_train"
      ],
      "metadata": {
        "colab": {
          "base_uri": "https://localhost:8080/",
          "height": 424
        },
        "id": "eCUpyGSwkWGY",
        "outputId": "7e205b69-45bc-48b2-c478-7026a549a6dc"
      },
      "execution_count": 25,
      "outputs": [
        {
          "output_type": "execute_result",
          "data": {
            "text/plain": [
              "       gift_type  gift_category  stock_update_time  lsg_1  lsg_2  lsg_3  \\\n",
              "0             61            534            23818.0   3377   5221    504   \n",
              "1             61            534            23863.0   3377   5221    504   \n",
              "2            584            262            18293.0   5290   1579   3203   \n",
              "3             61            534            23819.0   3377   5221    504   \n",
              "4             61            534            23814.0   3377   5221    504   \n",
              "...          ...            ...                ...    ...    ...    ...   \n",
              "20274        105            704              117.0   2055   6883    995   \n",
              "20275       1220            526              144.0   8323   6753   6706   \n",
              "20276        509            705             1685.0   2826   4009   2912   \n",
              "20277        682            213              142.0   2089   6883   3607   \n",
              "20278       1061            212              143.0    898   1814   6109   \n",
              "\n",
              "       lsg_4  lsg_5  lsg_6  is_discounted  \n",
              "0       1912     10    554              0  \n",
              "1       1912     10    554              1  \n",
              "2       1912      9   1578              1  \n",
              "3       1912     10    554              0  \n",
              "4       1912      9    554              1  \n",
              "...      ...    ...    ...            ...  \n",
              "20274   1912     10   1899              0  \n",
              "20275   1912     10   1899              0  \n",
              "20276   1912     10   1451              0  \n",
              "20277   1912     10    822              0  \n",
              "20278   1912     10   1899              0  \n",
              "\n",
              "[20279 rows x 10 columns]"
            ],
            "text/html": [
              "\n",
              "  <div id=\"df-2e9bc9af-b094-448a-81f7-9c6fe85ce0ab\">\n",
              "    <div class=\"colab-df-container\">\n",
              "      <div>\n",
              "<style scoped>\n",
              "    .dataframe tbody tr th:only-of-type {\n",
              "        vertical-align: middle;\n",
              "    }\n",
              "\n",
              "    .dataframe tbody tr th {\n",
              "        vertical-align: top;\n",
              "    }\n",
              "\n",
              "    .dataframe thead th {\n",
              "        text-align: right;\n",
              "    }\n",
              "</style>\n",
              "<table border=\"1\" class=\"dataframe\">\n",
              "  <thead>\n",
              "    <tr style=\"text-align: right;\">\n",
              "      <th></th>\n",
              "      <th>gift_type</th>\n",
              "      <th>gift_category</th>\n",
              "      <th>stock_update_time</th>\n",
              "      <th>lsg_1</th>\n",
              "      <th>lsg_2</th>\n",
              "      <th>lsg_3</th>\n",
              "      <th>lsg_4</th>\n",
              "      <th>lsg_5</th>\n",
              "      <th>lsg_6</th>\n",
              "      <th>is_discounted</th>\n",
              "    </tr>\n",
              "  </thead>\n",
              "  <tbody>\n",
              "    <tr>\n",
              "      <th>0</th>\n",
              "      <td>61</td>\n",
              "      <td>534</td>\n",
              "      <td>23818.0</td>\n",
              "      <td>3377</td>\n",
              "      <td>5221</td>\n",
              "      <td>504</td>\n",
              "      <td>1912</td>\n",
              "      <td>10</td>\n",
              "      <td>554</td>\n",
              "      <td>0</td>\n",
              "    </tr>\n",
              "    <tr>\n",
              "      <th>1</th>\n",
              "      <td>61</td>\n",
              "      <td>534</td>\n",
              "      <td>23863.0</td>\n",
              "      <td>3377</td>\n",
              "      <td>5221</td>\n",
              "      <td>504</td>\n",
              "      <td>1912</td>\n",
              "      <td>10</td>\n",
              "      <td>554</td>\n",
              "      <td>1</td>\n",
              "    </tr>\n",
              "    <tr>\n",
              "      <th>2</th>\n",
              "      <td>584</td>\n",
              "      <td>262</td>\n",
              "      <td>18293.0</td>\n",
              "      <td>5290</td>\n",
              "      <td>1579</td>\n",
              "      <td>3203</td>\n",
              "      <td>1912</td>\n",
              "      <td>9</td>\n",
              "      <td>1578</td>\n",
              "      <td>1</td>\n",
              "    </tr>\n",
              "    <tr>\n",
              "      <th>3</th>\n",
              "      <td>61</td>\n",
              "      <td>534</td>\n",
              "      <td>23819.0</td>\n",
              "      <td>3377</td>\n",
              "      <td>5221</td>\n",
              "      <td>504</td>\n",
              "      <td>1912</td>\n",
              "      <td>10</td>\n",
              "      <td>554</td>\n",
              "      <td>0</td>\n",
              "    </tr>\n",
              "    <tr>\n",
              "      <th>4</th>\n",
              "      <td>61</td>\n",
              "      <td>534</td>\n",
              "      <td>23814.0</td>\n",
              "      <td>3377</td>\n",
              "      <td>5221</td>\n",
              "      <td>504</td>\n",
              "      <td>1912</td>\n",
              "      <td>9</td>\n",
              "      <td>554</td>\n",
              "      <td>1</td>\n",
              "    </tr>\n",
              "    <tr>\n",
              "      <th>...</th>\n",
              "      <td>...</td>\n",
              "      <td>...</td>\n",
              "      <td>...</td>\n",
              "      <td>...</td>\n",
              "      <td>...</td>\n",
              "      <td>...</td>\n",
              "      <td>...</td>\n",
              "      <td>...</td>\n",
              "      <td>...</td>\n",
              "      <td>...</td>\n",
              "    </tr>\n",
              "    <tr>\n",
              "      <th>20274</th>\n",
              "      <td>105</td>\n",
              "      <td>704</td>\n",
              "      <td>117.0</td>\n",
              "      <td>2055</td>\n",
              "      <td>6883</td>\n",
              "      <td>995</td>\n",
              "      <td>1912</td>\n",
              "      <td>10</td>\n",
              "      <td>1899</td>\n",
              "      <td>0</td>\n",
              "    </tr>\n",
              "    <tr>\n",
              "      <th>20275</th>\n",
              "      <td>1220</td>\n",
              "      <td>526</td>\n",
              "      <td>144.0</td>\n",
              "      <td>8323</td>\n",
              "      <td>6753</td>\n",
              "      <td>6706</td>\n",
              "      <td>1912</td>\n",
              "      <td>10</td>\n",
              "      <td>1899</td>\n",
              "      <td>0</td>\n",
              "    </tr>\n",
              "    <tr>\n",
              "      <th>20276</th>\n",
              "      <td>509</td>\n",
              "      <td>705</td>\n",
              "      <td>1685.0</td>\n",
              "      <td>2826</td>\n",
              "      <td>4009</td>\n",
              "      <td>2912</td>\n",
              "      <td>1912</td>\n",
              "      <td>10</td>\n",
              "      <td>1451</td>\n",
              "      <td>0</td>\n",
              "    </tr>\n",
              "    <tr>\n",
              "      <th>20277</th>\n",
              "      <td>682</td>\n",
              "      <td>213</td>\n",
              "      <td>142.0</td>\n",
              "      <td>2089</td>\n",
              "      <td>6883</td>\n",
              "      <td>3607</td>\n",
              "      <td>1912</td>\n",
              "      <td>10</td>\n",
              "      <td>822</td>\n",
              "      <td>0</td>\n",
              "    </tr>\n",
              "    <tr>\n",
              "      <th>20278</th>\n",
              "      <td>1061</td>\n",
              "      <td>212</td>\n",
              "      <td>143.0</td>\n",
              "      <td>898</td>\n",
              "      <td>1814</td>\n",
              "      <td>6109</td>\n",
              "      <td>1912</td>\n",
              "      <td>10</td>\n",
              "      <td>1899</td>\n",
              "      <td>0</td>\n",
              "    </tr>\n",
              "  </tbody>\n",
              "</table>\n",
              "<p>20279 rows × 10 columns</p>\n",
              "</div>\n",
              "      <button class=\"colab-df-convert\" onclick=\"convertToInteractive('df-2e9bc9af-b094-448a-81f7-9c6fe85ce0ab')\"\n",
              "              title=\"Convert this dataframe to an interactive table.\"\n",
              "              style=\"display:none;\">\n",
              "        \n",
              "  <svg xmlns=\"http://www.w3.org/2000/svg\" height=\"24px\"viewBox=\"0 0 24 24\"\n",
              "       width=\"24px\">\n",
              "    <path d=\"M0 0h24v24H0V0z\" fill=\"none\"/>\n",
              "    <path d=\"M18.56 5.44l.94 2.06.94-2.06 2.06-.94-2.06-.94-.94-2.06-.94 2.06-2.06.94zm-11 1L8.5 8.5l.94-2.06 2.06-.94-2.06-.94L8.5 2.5l-.94 2.06-2.06.94zm10 10l.94 2.06.94-2.06 2.06-.94-2.06-.94-.94-2.06-.94 2.06-2.06.94z\"/><path d=\"M17.41 7.96l-1.37-1.37c-.4-.4-.92-.59-1.43-.59-.52 0-1.04.2-1.43.59L10.3 9.45l-7.72 7.72c-.78.78-.78 2.05 0 2.83L4 21.41c.39.39.9.59 1.41.59.51 0 1.02-.2 1.41-.59l7.78-7.78 2.81-2.81c.8-.78.8-2.07 0-2.86zM5.41 20L4 18.59l7.72-7.72 1.47 1.35L5.41 20z\"/>\n",
              "  </svg>\n",
              "      </button>\n",
              "      \n",
              "  <style>\n",
              "    .colab-df-container {\n",
              "      display:flex;\n",
              "      flex-wrap:wrap;\n",
              "      gap: 12px;\n",
              "    }\n",
              "\n",
              "    .colab-df-convert {\n",
              "      background-color: #E8F0FE;\n",
              "      border: none;\n",
              "      border-radius: 50%;\n",
              "      cursor: pointer;\n",
              "      display: none;\n",
              "      fill: #1967D2;\n",
              "      height: 32px;\n",
              "      padding: 0 0 0 0;\n",
              "      width: 32px;\n",
              "    }\n",
              "\n",
              "    .colab-df-convert:hover {\n",
              "      background-color: #E2EBFA;\n",
              "      box-shadow: 0px 1px 2px rgba(60, 64, 67, 0.3), 0px 1px 3px 1px rgba(60, 64, 67, 0.15);\n",
              "      fill: #174EA6;\n",
              "    }\n",
              "\n",
              "    [theme=dark] .colab-df-convert {\n",
              "      background-color: #3B4455;\n",
              "      fill: #D2E3FC;\n",
              "    }\n",
              "\n",
              "    [theme=dark] .colab-df-convert:hover {\n",
              "      background-color: #434B5C;\n",
              "      box-shadow: 0px 1px 3px 1px rgba(0, 0, 0, 0.15);\n",
              "      filter: drop-shadow(0px 1px 2px rgba(0, 0, 0, 0.3));\n",
              "      fill: #FFFFFF;\n",
              "    }\n",
              "  </style>\n",
              "\n",
              "      <script>\n",
              "        const buttonEl =\n",
              "          document.querySelector('#df-2e9bc9af-b094-448a-81f7-9c6fe85ce0ab button.colab-df-convert');\n",
              "        buttonEl.style.display =\n",
              "          google.colab.kernel.accessAllowed ? 'block' : 'none';\n",
              "\n",
              "        async function convertToInteractive(key) {\n",
              "          const element = document.querySelector('#df-2e9bc9af-b094-448a-81f7-9c6fe85ce0ab');\n",
              "          const dataTable =\n",
              "            await google.colab.kernel.invokeFunction('convertToInteractive',\n",
              "                                                     [key], {});\n",
              "          if (!dataTable) return;\n",
              "\n",
              "          const docLinkHtml = 'Like what you see? Visit the ' +\n",
              "            '<a target=\"_blank\" href=https://colab.research.google.com/notebooks/data_table.ipynb>data table notebook</a>'\n",
              "            + ' to learn more about interactive tables.';\n",
              "          element.innerHTML = '';\n",
              "          dataTable['output_type'] = 'display_data';\n",
              "          await google.colab.output.renderOutput(dataTable, element);\n",
              "          const docLink = document.createElement('div');\n",
              "          docLink.innerHTML = docLinkHtml;\n",
              "          element.appendChild(docLink);\n",
              "        }\n",
              "      </script>\n",
              "    </div>\n",
              "  </div>\n",
              "  "
            ]
          },
          "metadata": {},
          "execution_count": 25
        }
      ]
    },
    {
      "cell_type": "code",
      "source": [
        "Y_train"
      ],
      "metadata": {
        "colab": {
          "base_uri": "https://localhost:8080/"
        },
        "id": "hS5DWtOlk7mB",
        "outputId": "75ec1eb1-cb93-40df-f3f2-aa5967b7cb87"
      },
      "execution_count": 26,
      "outputs": [
        {
          "output_type": "execute_result",
          "data": {
            "text/plain": [
              "0        175.54\n",
              "1         95.80\n",
              "2        107.35\n",
              "3        172.90\n",
              "4         77.72\n",
              "          ...  \n",
              "20274     57.68\n",
              "20275    122.87\n",
              "20276     47.14\n",
              "20277     47.68\n",
              "20278     52.81\n",
              "Name: price, Length: 20279, dtype: float64"
            ]
          },
          "metadata": {},
          "execution_count": 26
        }
      ]
    },
    {
      "cell_type": "code",
      "source": [
        "print(test_data.columns)\n"
      ],
      "metadata": {
        "colab": {
          "base_uri": "https://localhost:8080/"
        },
        "id": "HWs4DYgdrbCx",
        "outputId": "d956630f-367a-48c2-c9d2-33d40861b5e1"
      },
      "execution_count": 27,
      "outputs": [
        {
          "output_type": "stream",
          "name": "stdout",
          "text": [
            "Index(['gift_id', 'gift_type', 'gift_category', 'gift_cluster', 'instock_date',\n",
            "       'stock_update_date', 'lsg_1', 'lsg_2', 'lsg_3', 'lsg_4', 'lsg_5',\n",
            "       'lsg_6', 'uk_date1', 'uk_date2', 'is_discounted', 'volumes',\n",
            "       'stock_update_time'],\n",
            "      dtype='object')\n"
          ]
        }
      ]
    },
    {
      "cell_type": "code",
      "source": [
        "X_test = test_data[['gift_type','gift_category','stock_update_time', 'lsg_1', 'lsg_2','lsg_3','lsg_4','lsg_5','lsg_6','is_discounted']]\n",
        "X_test.head\n"
      ],
      "metadata": {
        "id": "LvvWhRN5sOmQ",
        "colab": {
          "base_uri": "https://localhost:8080/"
        },
        "outputId": "39d070c9-a621-4d4b-f4b8-dbe8b6638286"
      },
      "execution_count": 31,
      "outputs": [
        {
          "output_type": "execute_result",
          "data": {
            "text/plain": [
              "<bound method NDFrame.head of        gift_type  gift_category  stock_update_time  lsg_1  lsg_2  lsg_3  \\\n",
              "0            842            663               93.0    203   1334   4358   \n",
              "1            407            534              121.0   4785   5940   2582   \n",
              "2            631            433               96.0   1812   5027   3427   \n",
              "3            992            433               94.0   2002   6883   5537   \n",
              "4             43            534              142.0   1512   6883    610   \n",
              "...          ...            ...                ...    ...    ...    ...   \n",
              "13514         31             65               71.0   3252   3211   7565   \n",
              "13515         31             65               24.0   3252   3211   7565   \n",
              "13516         31             65               24.0   3252   3211   7565   \n",
              "13517        280            184               77.0   4198   3332   1805   \n",
              "13518       1293            860               50.0   8780   1393   7359   \n",
              "\n",
              "       lsg_4  lsg_5  lsg_6  is_discounted  \n",
              "0       1912     10   1899              0  \n",
              "1       1912     10   1488              0  \n",
              "2       1912     10   1913              1  \n",
              "3       1912     10   1734              0  \n",
              "4       1912      9    150              1  \n",
              "...      ...    ...    ...            ...  \n",
              "13514   1845      9   1899              0  \n",
              "13515   1786      9   1899              0  \n",
              "13516   1830      9   1899              0  \n",
              "13517   1912      9   1899              0  \n",
              "13518   1912      9   1899              0  \n",
              "\n",
              "[13519 rows x 10 columns]>"
            ]
          },
          "metadata": {},
          "execution_count": 31
        }
      ]
    },
    {
      "cell_type": "code",
      "source": [
        "X_test.info()"
      ],
      "metadata": {
        "colab": {
          "base_uri": "https://localhost:8080/"
        },
        "id": "vLP-qxcT_jlT",
        "outputId": "2450c462-b021-452c-dfaf-9b4cec1ffb28"
      },
      "execution_count": 34,
      "outputs": [
        {
          "output_type": "stream",
          "name": "stdout",
          "text": [
            "<class 'pandas.core.frame.DataFrame'>\n",
            "RangeIndex: 13519 entries, 0 to 13518\n",
            "Data columns (total 10 columns):\n",
            " #   Column             Non-Null Count  Dtype  \n",
            "---  ------             --------------  -----  \n",
            " 0   gift_type          13519 non-null  int64  \n",
            " 1   gift_category      13519 non-null  int64  \n",
            " 2   stock_update_time  13519 non-null  float64\n",
            " 3   lsg_1              13519 non-null  int64  \n",
            " 4   lsg_2              13519 non-null  int64  \n",
            " 5   lsg_3              13519 non-null  int64  \n",
            " 6   lsg_4              13519 non-null  int64  \n",
            " 7   lsg_5              13519 non-null  int64  \n",
            " 8   lsg_6              13519 non-null  int64  \n",
            " 9   is_discounted      13519 non-null  int64  \n",
            "dtypes: float64(1), int64(9)\n",
            "memory usage: 1.0 MB\n"
          ]
        }
      ]
    },
    {
      "cell_type": "code",
      "source": [
        "#error not fixing"
      ],
      "metadata": {
        "colab": {
          "base_uri": "https://localhost:8080/",
          "height": 364
        },
        "id": "TAp3Vnzfn1rx",
        "outputId": "7574af2a-5cfe-44dd-857b-640a7ce72710"
      },
      "execution_count": null,
      "outputs": [
        {
          "output_type": "error",
          "ename": "ValueError",
          "evalue": "ignored",
          "traceback": [
            "\u001b[0;31m---------------------------------------------------------------------------\u001b[0m",
            "\u001b[0;31mValueError\u001b[0m                                Traceback (most recent call last)",
            "\u001b[0;32m<ipython-input-139-ca2eaad78490>\u001b[0m in \u001b[0;36m<cell line: 12>\u001b[0;34m()\u001b[0m\n\u001b[1;32m     10\u001b[0m \u001b[0;34m\u001b[0m\u001b[0m\n\u001b[1;32m     11\u001b[0m \u001b[0;31m# Calculate RMSE\u001b[0m\u001b[0;34m\u001b[0m\u001b[0;34m\u001b[0m\u001b[0m\n\u001b[0;32m---> 12\u001b[0;31m \u001b[0mrmse\u001b[0m \u001b[0;34m=\u001b[0m \u001b[0mmean_squared_error\u001b[0m\u001b[0;34m(\u001b[0m\u001b[0my_test\u001b[0m\u001b[0;34m,\u001b[0m \u001b[0my_pred\u001b[0m\u001b[0;34m,\u001b[0m \u001b[0msquared\u001b[0m\u001b[0;34m=\u001b[0m\u001b[0;32mFalse\u001b[0m\u001b[0;34m)\u001b[0m\u001b[0;34m\u001b[0m\u001b[0;34m\u001b[0m\u001b[0m\n\u001b[0m\u001b[1;32m     13\u001b[0m \u001b[0mprint\u001b[0m\u001b[0;34m(\u001b[0m\u001b[0;34m\"RMSE:\"\u001b[0m\u001b[0;34m,\u001b[0m \u001b[0mrmse\u001b[0m\u001b[0;34m)\u001b[0m\u001b[0;34m\u001b[0m\u001b[0;34m\u001b[0m\u001b[0m\n",
            "\u001b[0;32m/usr/local/lib/python3.10/dist-packages/sklearn/metrics/_regression.py\u001b[0m in \u001b[0;36mmean_squared_error\u001b[0;34m(y_true, y_pred, sample_weight, multioutput, squared)\u001b[0m\n\u001b[1;32m    440\u001b[0m     \u001b[0;36m0.825\u001b[0m\u001b[0;34m...\u001b[0m\u001b[0;34m\u001b[0m\u001b[0;34m\u001b[0m\u001b[0m\n\u001b[1;32m    441\u001b[0m     \"\"\"\n\u001b[0;32m--> 442\u001b[0;31m     y_type, y_true, y_pred, multioutput = _check_reg_targets(\n\u001b[0m\u001b[1;32m    443\u001b[0m         \u001b[0my_true\u001b[0m\u001b[0;34m,\u001b[0m \u001b[0my_pred\u001b[0m\u001b[0;34m,\u001b[0m \u001b[0mmultioutput\u001b[0m\u001b[0;34m\u001b[0m\u001b[0;34m\u001b[0m\u001b[0m\n\u001b[1;32m    444\u001b[0m     )\n",
            "\u001b[0;32m/usr/local/lib/python3.10/dist-packages/sklearn/metrics/_regression.py\u001b[0m in \u001b[0;36m_check_reg_targets\u001b[0;34m(y_true, y_pred, multioutput, dtype)\u001b[0m\n\u001b[1;32m     99\u001b[0m     \"\"\"\n\u001b[1;32m    100\u001b[0m     \u001b[0mcheck_consistent_length\u001b[0m\u001b[0;34m(\u001b[0m\u001b[0my_true\u001b[0m\u001b[0;34m,\u001b[0m \u001b[0my_pred\u001b[0m\u001b[0;34m)\u001b[0m\u001b[0;34m\u001b[0m\u001b[0;34m\u001b[0m\u001b[0m\n\u001b[0;32m--> 101\u001b[0;31m     \u001b[0my_true\u001b[0m \u001b[0;34m=\u001b[0m \u001b[0mcheck_array\u001b[0m\u001b[0;34m(\u001b[0m\u001b[0my_true\u001b[0m\u001b[0;34m,\u001b[0m \u001b[0mensure_2d\u001b[0m\u001b[0;34m=\u001b[0m\u001b[0;32mFalse\u001b[0m\u001b[0;34m,\u001b[0m \u001b[0mdtype\u001b[0m\u001b[0;34m=\u001b[0m\u001b[0mdtype\u001b[0m\u001b[0;34m)\u001b[0m\u001b[0;34m\u001b[0m\u001b[0;34m\u001b[0m\u001b[0m\n\u001b[0m\u001b[1;32m    102\u001b[0m     \u001b[0my_pred\u001b[0m \u001b[0;34m=\u001b[0m \u001b[0mcheck_array\u001b[0m\u001b[0;34m(\u001b[0m\u001b[0my_pred\u001b[0m\u001b[0;34m,\u001b[0m \u001b[0mensure_2d\u001b[0m\u001b[0;34m=\u001b[0m\u001b[0;32mFalse\u001b[0m\u001b[0;34m,\u001b[0m \u001b[0mdtype\u001b[0m\u001b[0;34m=\u001b[0m\u001b[0mdtype\u001b[0m\u001b[0;34m)\u001b[0m\u001b[0;34m\u001b[0m\u001b[0;34m\u001b[0m\u001b[0m\n\u001b[1;32m    103\u001b[0m \u001b[0;34m\u001b[0m\u001b[0m\n",
            "\u001b[0;32m/usr/local/lib/python3.10/dist-packages/sklearn/utils/validation.py\u001b[0m in \u001b[0;36mcheck_array\u001b[0;34m(array, accept_sparse, accept_large_sparse, dtype, order, copy, force_all_finite, ensure_2d, allow_nd, ensure_min_samples, ensure_min_features, estimator, input_name)\u001b[0m\n\u001b[1;32m    919\u001b[0m \u001b[0;34m\u001b[0m\u001b[0m\n\u001b[1;32m    920\u001b[0m         \u001b[0;32mif\u001b[0m \u001b[0mforce_all_finite\u001b[0m\u001b[0;34m:\u001b[0m\u001b[0;34m\u001b[0m\u001b[0;34m\u001b[0m\u001b[0m\n\u001b[0;32m--> 921\u001b[0;31m             _assert_all_finite(\n\u001b[0m\u001b[1;32m    922\u001b[0m                 \u001b[0marray\u001b[0m\u001b[0;34m,\u001b[0m\u001b[0;34m\u001b[0m\u001b[0;34m\u001b[0m\u001b[0m\n\u001b[1;32m    923\u001b[0m                 \u001b[0minput_name\u001b[0m\u001b[0;34m=\u001b[0m\u001b[0minput_name\u001b[0m\u001b[0;34m,\u001b[0m\u001b[0;34m\u001b[0m\u001b[0;34m\u001b[0m\u001b[0m\n",
            "\u001b[0;32m/usr/local/lib/python3.10/dist-packages/sklearn/utils/validation.py\u001b[0m in \u001b[0;36m_assert_all_finite\u001b[0;34m(X, allow_nan, msg_dtype, estimator_name, input_name)\u001b[0m\n\u001b[1;32m    159\u001b[0m                 \u001b[0;34m\"#estimators-that-handle-nan-values\"\u001b[0m\u001b[0;34m\u001b[0m\u001b[0;34m\u001b[0m\u001b[0m\n\u001b[1;32m    160\u001b[0m             )\n\u001b[0;32m--> 161\u001b[0;31m         \u001b[0;32mraise\u001b[0m \u001b[0mValueError\u001b[0m\u001b[0;34m(\u001b[0m\u001b[0mmsg_err\u001b[0m\u001b[0;34m)\u001b[0m\u001b[0;34m\u001b[0m\u001b[0;34m\u001b[0m\u001b[0m\n\u001b[0m\u001b[1;32m    162\u001b[0m \u001b[0;34m\u001b[0m\u001b[0m\n\u001b[1;32m    163\u001b[0m \u001b[0;34m\u001b[0m\u001b[0m\n",
            "\u001b[0;31mValueError\u001b[0m: Input contains NaN."
          ]
        }
      ]
    },
    {
      "cell_type": "code",
      "source": [
        "# Step 3: Split the data into training and testing sets\n",
        "x_train, x_test, y_train, y_test = train_test_split(X_train, Y_train, test_size=0.3)\n",
        "\n",
        "# Step 4: Train a linear regression model\n",
        "model = LinearRegression()\n",
        "model.fit(x_train, y_train)\n",
        "\n",
        "# Step 5: Make predictions on the testing data\n",
        "y_pred = model.predict(x_test)\n",
        "\n",
        "# Step 6: Calculate the RMSE\n",
        "rmse = np.sqrt(mean_squared_error(y_test, y_pred))\n",
        "\n",
        "# Step 7: Generate the scatter plot with linear line\n",
        "plt.scatter(np.log(y_test), np.log(y_pred), c='blue', label='Actual vs. Predicted')\n",
        "plt.plot([np.log(y_test.min()), np.log(y_test.max())], [np.log(y_test.min()), np.log(y_test.max())], color='red', linestyle='--', label='Linear Line')\n",
        "plt.xlabel('Actual Sales (log)')\n",
        "plt.ylabel('Predicted Sales (log)')\n",
        "plt.title('Actual vs. Predicted Sales')\n",
        "plt.legend()\n",
        "plt.show()\n",
        "\n",
        "# Print the RMSE\n",
        "print(\"RMSE:\", rmse)"
      ],
      "metadata": {
        "colab": {
          "base_uri": "https://localhost:8080/",
          "height": 524
        },
        "id": "_IFTl9Lnu148",
        "outputId": "2c658860-762f-4f16-86c7-fea752ef1146"
      },
      "execution_count": 35,
      "outputs": [
        {
          "output_type": "stream",
          "name": "stderr",
          "text": [
            "<ipython-input-35-71e4c13d6f40>:15: RuntimeWarning: invalid value encountered in log\n",
            "  plt.scatter(np.log(y_test), np.log(y_pred), c='blue', label='Actual vs. Predicted')\n"
          ]
        },
        {
          "output_type": "display_data",
          "data": {
            "text/plain": [
              "<Figure size 640x480 with 1 Axes>"
            ],
            "image/png": "[encoded data removed]"
          },
          "metadata": {}
        },
        {
          "output_type": "stream",
          "name": "stdout",
          "text": [
            "RMSE: 220.3979762562437\n"
          ]
        }
      ]
    },
    {
      "cell_type": "code",
      "source": [],
      "metadata": {
        "id": "jj8gHb0y-zoi"
      },
      "execution_count": null,
      "outputs": []
    }
  ]
}